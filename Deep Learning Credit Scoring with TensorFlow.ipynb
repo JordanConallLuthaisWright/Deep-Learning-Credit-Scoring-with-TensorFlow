{
 "cells": [
  {
   "cell_type": "markdown",
   "id": "2eae2566-1099-4c74-9840-0d3790ae2cb6",
   "metadata": {},
   "source": [
    "## **Deep Learning Credit Scoring with TensorFlow**\n",
    "\n",
    "This project is divided into two parts. In the first part, I will explore **TensorFlow**, a deep learning framework, to build my own **Neural Networks** from scratch. In the second part, I will apply the skills acquired in the first part to **develop and train a neural network** that predicts a person's **credit score**.\n"
   ]
  },
  {
   "cell_type": "markdown",
   "id": "3d2bfd86-9409-4ca3-bcf2-da6fc0ffc84f",
   "metadata": {},
   "source": [
    "This project aims to build a strong foundation in TensorFlow by learning essential deep learning techniques, including variable initialization, session management, and algorithm training, which are crucial for developing and optimizing neural networks."
   ]
  },
  {
   "cell_type": "markdown",
   "id": "599ceb56-863c-4df5-a9d2-3b7129844fa5",
   "metadata": {},
   "source": [
    "**What is TensorFlow?**\n",
    "TensorFlow is an open-source deep learning framework developed by Google. It helps build, train, and deploy machine learning (ML) and deep learning models efficiently. It supports both CPU and GPU processing, making it scalable for small and large projects.\n",
    "\n",
    "**Why is TensorFlow Important for Data Analytics?**\n",
    "- Predictive Analytics – Helps analyze trends and make forecasts using deep learning.\n",
    "- Automated Insights – Can detect patterns in data that traditional analytics might miss.\n",
    "- Scalability – Handles large datasets efficiently, useful for big data analysis.\n",
    "- Integration – Works with tools like Python, SQL, and Power BI to enhance analytical workflows.\n",
    "  \n",
    "*Note: TensorFlow can be valuable for advanced analytics, forecasting, and automation, making you a more competitive analyst.*"
   ]
  },
  {
   "cell_type": "code",
   "execution_count": 1,
   "id": "2ecc2d8d-4c6f-4d6c-b4f8-71eead166494",
   "metadata": {},
   "outputs": [],
   "source": [
    "import tensorflow as tf\n",
    "import numpy as np\n",
    "import pandas as pd\n",
    "import matplotlib.pyplot as plt\n",
    "from tensorflow.python.framework import ops\n",
    "\n",
    "%matplotlib inline\n",
    "np.random.seed(1)"
   ]
  },
  {
   "cell_type": "markdown",
   "id": "a8dbee5e-fdc2-4863-b68d-15614068250e",
   "metadata": {},
   "source": [
    "Now that I have imported the library, I will explore its various applications. I will begin with an example by computing the squared error loss.\n",
    "\n",
    "$$\n",
    "\\text{loss} = \\mathcal{L}(\\hat{y}, y) = (\\hat{y}^{(i)} - y^{(i)})^2\n",
    "$$\n"
   ]
  },
  {
   "cell_type": "code",
   "execution_count": 2,
   "id": "eb958eb4-c923-4558-a6aa-320f17220a80",
   "metadata": {},
   "outputs": [
    {
     "name": "stdout",
     "output_type": "stream",
     "text": [
      "WARNING:tensorflow:From C:\\Users\\jorda\\AppData\\Local\\Temp\\ipykernel_38492\\217878198.py:4: The name tf.disable_eager_execution is deprecated. Please use tf.compat.v1.disable_eager_execution instead.\n",
      "\n",
      "9\n"
     ]
    }
   ],
   "source": [
    "import tensorflow as tf\n",
    "\n",
    "# Disable Eager Execution (for TensorFlow 1.x behavior)\n",
    "tf.compat.v1.disable_eager_execution()\n",
    "\n",
    "# Define y_hat and y\n",
    "y_hat = tf.constant(36, name='y_hat')\n",
    "y = tf.constant(39, name='y')\n",
    "\n",
    "# Define the loss variable\n",
    "loss = tf.Variable((y - y_hat) ** 2, name='loss')\n",
    "\n",
    "# Initialize variables\n",
    "init = tf.compat.v1.global_variables_initializer()\n",
    "\n",
    "# Create a session and run the computation\n",
    "with tf.compat.v1.Session() as session:\n",
    "    session.run(init)\n",
    "    print(session.run(loss))"
   ]
  },
  {
   "cell_type": "markdown",
   "id": "6097177b-a914-4e4e-b448-af8c67f5cdde",
   "metadata": {},
   "source": [
    "\n",
    "- Create Tensors (variables): Define the tensors without immediately executing or evaluating them.\n",
    "- Define operations: Specify mathematical operations between the tensors.\n",
    "- Initialize the tensors: Prepare the tensors for computation.\n",
    "- Create a session: Establish a session to manage execution.\n",
    "- Run the session: Execute the defined operations within the session.\n",
    "                                             \n",
    "*When I created a variable for the loss, I defined it as a function of other quantities without evaluating its value. To compute it, I initialized the variable using init = tf.global_variables_initializer(). This step ensured that the loss variable was properly set up, allowing me to evaluate and print its value in the final step.*"
   ]
  },
  {
   "cell_type": "code",
   "execution_count": 3,
   "id": "a5957bec-1312-4b13-b6fb-9b1262d8503d",
   "metadata": {},
   "outputs": [
    {
     "name": "stdout",
     "output_type": "stream",
     "text": [
      "Tensor(\"Mul:0\", shape=(), dtype=int32)\n"
     ]
    }
   ],
   "source": [
    "a = tf.constant(2)\n",
    "b = tf.constant(10)\n",
    "c = tf.multiply(a,b)\n",
    "print(c)"
   ]
  },
  {
   "cell_type": "code",
   "execution_count": 4,
   "id": "0ada138a-5616-4543-b627-5052e421eb4d",
   "metadata": {},
   "outputs": [
    {
     "name": "stdout",
     "output_type": "stream",
     "text": [
      "20\n"
     ]
    }
   ],
   "source": [
    "import tensorflow as tf\n",
    "\n",
    "# Disable Eager Execution (Make TensorFlow 2.x behave like TensorFlow 1.x)\n",
    "tf.compat.v1.disable_eager_execution()\n",
    "\n",
    "# Define constants\n",
    "a = tf.constant(2)\n",
    "b = tf.constant(10)\n",
    "\n",
    "# Perform multiplication\n",
    "c = tf.multiply(a, b)\n",
    "\n",
    "# Create a Session (Using TF 1.x style)\n",
    "with tf.compat.v1.Session() as sess:\n",
    "    print(sess.run(c))\n"
   ]
  },
  {
   "cell_type": "markdown",
   "id": "710a0ade-a70a-4841-ae54-e8fd7ab252a1",
   "metadata": {},
   "source": [
    "To summarize, always remember to initialize your variables, create a session, and execute operations within the session.\n",
    "\n",
    "Next, it's important to understand placeholders. A placeholder is a tensor whose value is assigned later during execution. To provide a value for a placeholder, you use a feed dictionary (feed_dict). In the example below, we define a placeholder for x, allowing us to specify its value dynamically when running the session."
   ]
  },
  {
   "cell_type": "code",
   "execution_count": 5,
   "id": "d62b0d98-2844-4bc4-ab3d-f4d3fbedc024",
   "metadata": {},
   "outputs": [
    {
     "name": "stdout",
     "output_type": "stream",
     "text": [
      "6\n"
     ]
    }
   ],
   "source": [
    "import tensorflow as tf\n",
    "\n",
    "# Disable Eager Execution (Make TensorFlow 2.x behave like TensorFlow 1.x)\n",
    "tf.compat.v1.disable_eager_execution()\n",
    "\n",
    "# Define a placeholder (TF 1.x style)\n",
    "x = tf.compat.v1.placeholder(tf.int64, name='x')\n",
    "\n",
    "# Create a session and run computation\n",
    "with tf.compat.v1.Session() as sess:\n",
    "    print(sess.run(2 * x, feed_dict={x: 3}))  # Output: 6\n"
   ]
  },
  {
   "cell_type": "markdown",
   "id": "fd7905d2-3385-479f-b1e8-6a21f46c7c7e",
   "metadata": {},
   "source": [
    "A placeholder is a variable that receives its value later, during session execution. This process is known as feeding data into placeholders at runtime.\n",
    "\n",
    "**Analysis:**\n",
    "When defining operations in TensorFlow, I am constructing a computation graph, which represents the sequence of calculations. This graph may include placeholders, whose values are assigned dynamically during execution. When the session runs, TensorFlow processes the computation graph and evaluates the necessary operations using the provided data."
   ]
  },
  {
   "cell_type": "markdown",
   "id": "eec68b46-c605-44cc-8db0-ade9a9d6746a",
   "metadata": {},
   "source": [
    "### **1.0 Logit Calculation**"
   ]
  },
  {
   "cell_type": "markdown",
   "id": "1fc3dcb4-b65b-4755-a463-98ae05d67a6c",
   "metadata": {},
   "source": [
    "I started this exercise by computing the following equation:  \n",
    "\n",
    "$ Y = \\mathbf{W} \\mathbf{X} + \\mathbf{b} $  \n",
    "\n",
    "where **$\\mathbf{W}$** and **$\\mathbf{X}$** are random matrices, and **$\\mathbf{b}$** is a random vector.  \n",
    "\n",
    "Below are examples of the functions I needing, to complete this exercise.\n"
   ]
  },
  {
   "cell_type": "code",
   "execution_count": 6,
   "id": "50328637-9a64-4a29-9b1f-d233de23ef2f",
   "metadata": {},
   "outputs": [
    {
     "data": {
      "text/plain": [
       "array([ 1.62434536, -0.61175641, -0.52817175, -1.07296862])"
      ]
     },
     "execution_count": 6,
     "metadata": {},
     "output_type": "execute_result"
    }
   ],
   "source": [
    "# Random vector\n",
    "np.random.randn(4)"
   ]
  },
  {
   "cell_type": "code",
   "execution_count": 7,
   "id": "6e41fbba-ae14-4585-88b1-ebc5e149125e",
   "metadata": {},
   "outputs": [
    {
     "data": {
      "text/plain": [
       "array([[ 0.86540763, -2.3015387 ,  1.74481176],\n",
       "       [-0.7612069 ,  0.3190391 , -0.24937038]])"
      ]
     },
     "execution_count": 7,
     "metadata": {},
     "output_type": "execute_result"
    }
   ],
   "source": [
    "# Random Matrix\n",
    "np.random.randn(2,3)"
   ]
  },
  {
   "cell_type": "code",
   "execution_count": 8,
   "id": "8f39443a-7060-4954-aa24-e6f66165c09d",
   "metadata": {},
   "outputs": [
    {
     "name": "stdout",
     "output_type": "stream",
     "text": [
      "20\n"
     ]
    }
   ],
   "source": [
    "# Addition with tensorflow\n",
    "x1 = tf.constant(5, name=\"x1\")\n",
    "x2 = tf.constant(15, name=\"x2\")\n",
    "operation = tf.add(x1,x2)\n",
    "with tf.compat.v1.Session() as sess:\n",
    "    result = sess.run(operation)\n",
    "print(result)"
   ]
  },
  {
   "cell_type": "code",
   "execution_count": 9,
   "id": "38b0e6cd-5dc3-45f0-93ed-055c3f79b8ac",
   "metadata": {},
   "outputs": [
    {
     "name": "stdout",
     "output_type": "stream",
     "text": [
      "[[4 2]\n",
      " [2 1]]\n"
     ]
    }
   ],
   "source": [
    "# Matrix Multiplication: Shapes (2,1), (1,2)\n",
    "x1 = tf.constant([[2],[1]], name=\"x1\")\n",
    "x2 = tf.constant([[2,1]], name=\"x2\")\n",
    "operation = tf.matmul(x1,x2)\n",
    "with tf.compat.v1.Session() as sess:\n",
    "    result = sess.run(operation)\n",
    "print(result)"
   ]
  },
  {
   "cell_type": "markdown",
   "id": "a077d302-023b-4b6a-810f-2b2668aef477",
   "metadata": {},
   "source": [
    "#### **Exercise 1.**"
   ]
  },
  {
   "cell_type": "markdown",
   "id": "3a5a4c0e-06a8-4f4c-97b3-f5bfdd5b960d",
   "metadata": {},
   "source": [
    "Compute $ W X + b $ where **$ W $**, **$ X $**, and **$ b $** are drawn from a random normal distribution.  \n",
    "$ W $ has a shape of **(4,3)**, $ X $ is **(3,1)**, and $ b $ is **(4,1)**.  \n",
    "\n",
    "As an example, here is how you would define a constant $ X $ with shape **(3,1)**:\n",
    "\n",
    "```python\n",
    "X = tf.constant(np.random.randn(3,1), name=\"X\")\n"
   ]
  },
  {
   "cell_type": "code",
   "execution_count": 10,
   "id": "d67c9747-cfdd-4697-8437-56a0bea50ae5",
   "metadata": {},
   "outputs": [
    {
     "name": "stdout",
     "output_type": "stream",
     "text": [
      "result = \n",
      " [[-1.98748544]\n",
      " [-2.76826248]\n",
      " [-0.78635415]\n",
      " [-2.77463846]]\n"
     ]
    }
   ],
   "source": [
    "import tensorflow as tf\n",
    "import numpy as np\n",
    "\n",
    "# Disable Eager Execution (Make TensorFlow 2.x behave like TensorFlow 1.x)\n",
    "tf.compat.v1.disable_eager_execution()\n",
    "\n",
    "# Define the function to compute logits\n",
    "def compute_logits():\n",
    "    \"\"\"\n",
    "    Implements a linear function: Y = WX + b\n",
    "    - Initializes W as a random tensor of shape (4,3)\n",
    "    - Initializes X as a random tensor of shape (3,1)\n",
    "    - Initializes b as a random tensor of shape (4,1)\n",
    "    Returns:\n",
    "    - result: Computed value of Y = WX + b\n",
    "    \"\"\"\n",
    "    \n",
    "    np.random.seed(1)  # Set seed for reproducibility\n",
    "\n",
    "    # Define random tensors\n",
    "    W = tf.constant(np.random.randn(4,3), name=\"W\")\n",
    "    X = tf.constant(np.random.randn(3,1), name=\"X\")\n",
    "    b = tf.constant(np.random.randn(4,1), name=\"b\")\n",
    "\n",
    "    # Compute Y = WX + b\n",
    "    result = tf.add(tf.matmul(W, X), b)\n",
    "\n",
    "    # Create a session and run the computation\n",
    "    with tf.compat.v1.Session() as sess:\n",
    "        sess.run(tf.compat.v1.global_variables_initializer())  # Initialize variables\n",
    "        return sess.run(result)\n",
    "\n",
    "# Run function and print result\n",
    "print(\"result = \\n\", compute_logits())\n",
    "\n"
   ]
  },
  {
   "cell_type": "markdown",
   "id": "e4ad8c70-52d2-46ea-ba9b-9ee32ad7d642",
   "metadata": {},
   "source": [
    "### **1.1 Computing the sigmoid function**"
   ]
  },
  {
   "cell_type": "markdown",
   "id": "b3061748-e434-48f6-bc6b-79e2a94d314e",
   "metadata": {},
   "source": [
    "I just implemented a linear function. TensorFlow offers a variety of commonly used neural network functions like `tf.sigmoid` and `tf.nn.relu`. For this exercise, I will compute the sigmoid function of an input.\n",
    "\n",
    "In this exercise:\n",
    "1. **Create a placeholder** $ x $.\n",
    "2. **Define the operations** needed to compute the sigmoid using `tf.sigmoid`.\n",
    "3. **Run the session**.\n",
    "\n",
    "---\n",
    "\n",
    "#### **Exercise 2.**\n",
    "**Implement the Sigmoid Function**\n",
    "You should use the following:\n",
    "- `tf.placeholder(tf.float32, name = \"...\")`\n",
    "- `tf.sigmoid(...)`\n",
    "- `sess.run(..., feed_dict = {x: z})`\n",
    "\n",
    "---\n",
    "\n",
    "**TensorFlow Session Methods**\n",
    "There are two typical ways to create and use sessions in TensorFlow:\n",
    "\n",
    "**Method 1**\n",
    "```python\n",
    "sess = tf.Session()\n",
    "# Run the variables initialization (if needed), run the operations\n",
    "result = sess.run(..., feed_dict = {...})\n",
    "sess.close() # Close the session"
   ]
  },
  {
   "cell_type": "markdown",
   "id": "2338c22d-a4de-4cbd-b3e8-8ed0e46c8f27",
   "metadata": {},
   "source": [
    "**Method 2**\n",
    "```python \n",
    "with tf.Session() as sess:\n",
    "    # Run the variables initialization (if needed), run the operations\n",
    "    result = sess.run(..., feed_dict = {...})\n",
    "    # This takes care of closing the session for you :)"
   ]
  },
  {
   "cell_type": "code",
   "execution_count": 11,
   "id": "e359db78-3394-45f9-a383-7789efc528a1",
   "metadata": {},
   "outputs": [],
   "source": [
    "import tensorflow"
   ]
  },
  {
   "cell_type": "code",
   "execution_count": 12,
   "id": "62ebf5d8-1f54-4e30-ad90-6ae083f2d46d",
   "metadata": {},
   "outputs": [],
   "source": [
    "def sigmoid(z):\n",
    "    \"\"\"\n",
    "    Computes the sigmoid of z\n",
    "    \n",
    "    Arguments:\n",
    "    z -- input value, scalar or vector\n",
    "    \n",
    "    Returns: \n",
    "    results -- the sigmoid of z\n",
    "    \"\"\"\n",
    "    \n",
    "    # Create a placeholder for x. Name it 'x'.\n",
    "    x = tf.placeholder(tf.float32, name=\"x\")\n",
    "\n",
    "    # compute sigmoid(x)\n",
    "    sigmoid = tf.sigmoid(x)\n",
    "\n",
    "    # Create a session, and run it. Please use the method 2 explained above. \n",
    "    # You should use a feed_dict to pass z's value to x. \n",
    "    with tf.Session() as sess:\n",
    "        # Run session and call the output \"result\"\n",
    "        result = sess.run(sigmoid, feed_dict={x:z})\n",
    "\n",
    "    \n",
    "    return result"
   ]
  },
  {
   "cell_type": "code",
   "execution_count": 15,
   "id": "a82829f7-e696-44c7-9f40-ee89e4c22fef",
   "metadata": {},
   "outputs": [
    {
     "name": "stdout",
     "output_type": "stream",
     "text": [
      "sigmoid(0) = Tensor(\"Sigmoid_1:0\", shape=(), dtype=float32)\n",
      "sigmoid(12) = Tensor(\"Sigmoid_2:0\", shape=(), dtype=float32)\n"
     ]
    }
   ],
   "source": [
    "print (\"sigmoid(0) = \" + str(sigmoid(0)))\n",
    "print (\"sigmoid(12) = \" + str(sigmoid(12)))"
   ]
  },
  {
   "cell_type": "markdown",
   "id": "22650edd-18c8-4c8e-8244-96ba95c73661",
   "metadata": {},
   "source": [
    "### **1.2 Computing the Cost**"
   ]
  },
  {
   "cell_type": "markdown",
   "id": "c08463ca-b60f-4749-818f-7095ef4eb794",
   "metadata": {},
   "source": [
    "#### **Exercise 3.**\n",
    "**Implement the Mean Squared Loss**\n",
    "The **mean squared loss (MSE)** is the loss function used in **regression problems**. Your task is to compute the cost of the **Mean Squared Error (MSE)**.\n",
    "\n",
    "The function you will use is:\n",
    "\n",
    "```python\n",
    "tf.reduce_mean(tf.square(prediction - label))\n"
   ]
  },
  {
   "cell_type": "code",
   "execution_count": 16,
   "id": "9315a21a-cd86-47a8-af27-d211f14a1cab",
   "metadata": {},
   "outputs": [
    {
     "name": "stdout",
     "output_type": "stream",
     "text": [
      "cost = 9.0\n"
     ]
    }
   ],
   "source": [
    "import tensorflow as tf\n",
    "import numpy as np\n",
    "\n",
    "# Disable Eager Execution (Make TensorFlow 2.x behave like TensorFlow 1.x)\n",
    "tf.compat.v1.disable_eager_execution()\n",
    "\n",
    "def cost():\n",
    "    \"\"\"\n",
    "    Computes the cost using MSE (Mean Squared Error)\n",
    "    \"\"\"\n",
    "    # Define placeholders (TF 1.x style)\n",
    "    z = tf.compat.v1.placeholder(tf.float32, name=\"z\")\n",
    "    y = tf.compat.v1.placeholder(tf.float32, name=\"y\")\n",
    "\n",
    "    # Compute MSE\n",
    "    loss = tf.reduce_mean(tf.square(z - y))\n",
    "\n",
    "    # Create session\n",
    "    with tf.compat.v1.Session() as sess:\n",
    "        result = sess.run(loss, feed_dict={z: np.array([4.0, 3.0, 3.5]), \n",
    "                                           y: np.array([7.0, 6.0, 0.5])})\n",
    "        return result\n",
    "\n",
    "# Run function\n",
    "print(\"cost =\", cost())\n"
   ]
  },
  {
   "cell_type": "markdown",
   "id": "87a856ae-49d7-49eb-a9cc-379d5a9620c4",
   "metadata": {},
   "source": [
    "### **1.3 Initialize with zeros and ones**"
   ]
  },
  {
   "cell_type": "markdown",
   "id": "0d9dca13-96ce-47cd-b3a2-619077b5152d",
   "metadata": {},
   "source": [
    "Now, I will learn how to initialize vectors filled with zeros and ones. The function **`tf.ones()`** creates an array filled with ones, while **`tf.zeros()`** initializes an array of the same shape filled with zeros. Both functions require a shape parameter and return an array with the specified dimensions."
   ]
  },
  {
   "cell_type": "markdown",
   "id": "2b10cbda-ede5-4cac-aaec-e893980fb6f6",
   "metadata": {},
   "source": [
    "#### **Exercise 4.**"
   ]
  },
  {
   "cell_type": "markdown",
   "id": "3580b175-f39f-4d4a-af65-ff9f020baf63",
   "metadata": {},
   "source": [
    " Implement the function below to take in a shape and to return an array (of the shape's dimension of ones).\n",
    "\n",
    "**`tf.ones(shape)`**"
   ]
  },
  {
   "cell_type": "code",
   "execution_count": 17,
   "id": "cc8e4db0-5d16-486a-a8b1-c32e5e807dee",
   "metadata": {},
   "outputs": [
    {
     "name": "stdout",
     "output_type": "stream",
     "text": [
      "2.18.0\n"
     ]
    }
   ],
   "source": [
    "import tensorflow as tf\n",
    "print(tf.__version__)\n"
   ]
  },
  {
   "cell_type": "code",
   "execution_count": 18,
   "id": "0b0083f1-3255-4e87-add2-82307dc1b2c0",
   "metadata": {},
   "outputs": [
    {
     "name": "stdout",
     "output_type": "stream",
     "text": [
      "ones =  Tensor(\"ones:0\", shape=(3,), dtype=float32)\n"
     ]
    }
   ],
   "source": [
    "import tensorflow as tf\n",
    "\n",
    "def ones(shape):\n",
    "    \"\"\"\n",
    "    Creates an array of ones of dimension shape.\n",
    "    \"\"\"\n",
    "    ones_tensor = tf.ones(shape)\n",
    "    return ones_tensor\n",
    "\n",
    "# Print the result directly (TensorFlow 2.x supports eager execution by default)\n",
    "print(\"ones = \", ones([3]))\n"
   ]
  },
  {
   "cell_type": "markdown",
   "id": "df4dc1e8-204a-4d32-87df-e164d7b8349a",
   "metadata": {},
   "source": [
    "### **2.0 Credit Scoring Section**"
   ]
  },
  {
   "cell_type": "code",
   "execution_count": 20,
   "id": "fe090d3a-0921-44ac-883a-aedcc18974c8",
   "metadata": {},
   "outputs": [
    {
     "name": "stdout",
     "output_type": "stream",
     "text": [
      "Downloading from https://www.kaggle.com/api/v1/datasets/download/uciml/german-credit?dataset_version_number=1...\n"
     ]
    },
    {
     "name": "stderr",
     "output_type": "stream",
     "text": [
      "100%|█████████████████████████████████████████████████████████████████████████████| 10.9k/10.9k [00:00<00:00, 7.57MB/s]"
     ]
    },
    {
     "name": "stdout",
     "output_type": "stream",
     "text": [
      "Extracting files...\n",
      "Path to dataset files: C:\\Users\\jorda\\.cache\\kagglehub\\datasets\\uciml\\german-credit\\versions\\1\n"
     ]
    },
    {
     "name": "stderr",
     "output_type": "stream",
     "text": [
      "\n"
     ]
    }
   ],
   "source": [
    "import kagglehub\n",
    "\n",
    "# Download latest version\n",
    "path = kagglehub.dataset_download(\"uciml/german-credit\")\n",
    "\n",
    "print(\"Path to dataset files:\", path)"
   ]
  },
  {
   "cell_type": "code",
   "execution_count": 22,
   "id": "98447e76-24fc-49ac-ad85-bdbeed1340b1",
   "metadata": {},
   "outputs": [
    {
     "name": "stdout",
     "output_type": "stream",
     "text": [
      "Train Data:\n",
      "   Unnamed: 0  Age     Sex  Job Housing Saving accounts Checking account  \\\n",
      "0           0   67    male    2     own             NaN           little   \n",
      "1           1   22  female    2     own          little         moderate   \n",
      "2           2   49    male    1     own          little              NaN   \n",
      "3           3   45    male    2    free          little           little   \n",
      "4           4   53    male    2    free          little           little   \n",
      "\n",
      "   Credit amount  Duration              Purpose  \n",
      "0           1169         6             radio/TV  \n",
      "1           5951        48             radio/TV  \n",
      "2           2096        12            education  \n",
      "3           7882        42  furniture/equipment  \n",
      "4           4870        24                  car  \n"
     ]
    }
   ],
   "source": [
    "import pandas as pd\n",
    "\n",
    "# Set the correct file path using the file name only\n",
    "train_path = 'german_credit_data.csv'\n",
    "\n",
    "# Load the dataset\n",
    "train = pd.read_csv(train_path)\n",
    "\n",
    "# Display the first few rows\n",
    "print(\"Train Data:\")\n",
    "print(train.head())\n"
   ]
  },
  {
   "cell_type": "code",
   "execution_count": 24,
   "id": "02db4c2c-2c8b-4288-be5a-1542549b2cde",
   "metadata": {},
   "outputs": [
    {
     "name": "stdout",
     "output_type": "stream",
     "text": [
      "\n",
      "Missing values in the dataset:\n",
      "Unnamed: 0            0\n",
      "Age                   0\n",
      "Sex                   0\n",
      "Job                   0\n",
      "Housing               0\n",
      "Saving accounts     183\n",
      "Checking account    394\n",
      "Credit amount         0\n",
      "Duration              0\n",
      "Purpose               0\n",
      "dtype: int64\n"
     ]
    }
   ],
   "source": [
    "# Check for missing values\n",
    "print(\"\\nMissing values in the dataset:\")\n",
    "print(train.isnull().sum())\n",
    "\n",
    "# Check the distribution of the target variable (if exists)\n",
    "if \"ProbabilityOfDefaultIn2Yrs\" in train.columns:\n",
    "    print(\"\\nTarget distribution:\")\n",
    "    print(train[\"ProbabilityOfDefaultIn2Yrs\"].value_counts())\n"
   ]
  },
  {
   "cell_type": "code",
   "execution_count": 26,
   "id": "8a372f2b-8a41-42ea-a19f-f62588662342",
   "metadata": {},
   "outputs": [
    {
     "name": "stdout",
     "output_type": "stream",
     "text": [
      "Columns in the dataset:\n",
      "Index(['Unnamed: 0', 'Age', 'Sex', 'Job', 'Housing', 'Saving accounts',\n",
      "       'Checking account', 'Credit amount', 'Duration', 'Purpose'],\n",
      "      dtype='object')\n"
     ]
    }
   ],
   "source": [
    "# Display the column names to check for typos or different column names\n",
    "print(\"Columns in the dataset:\")\n",
    "print(train.columns)\n",
    "\n"
   ]
  },
  {
   "cell_type": "code",
   "execution_count": 29,
   "id": "d167d755-113c-4dc4-8b73-9cffc6cb525b",
   "metadata": {},
   "outputs": [],
   "source": [
    "# Encoding categorical variables using label encoding or one-hot encoding\n",
    "train['Sex'] = train['Sex'].map({'male': 0, 'female': 1})  # Example mapping\n",
    "\n",
    "# For other categorical columns, you could use pd.get_dummies for one-hot encoding\n",
    "train = pd.get_dummies(train, columns=['Job', 'Housing', 'Saving accounts', 'Checking account'], drop_first=True)\n",
    "\n"
   ]
  },
  {
   "cell_type": "code",
   "execution_count": 35,
   "id": "68a36708-1892-4b56-84b6-65506752925f",
   "metadata": {},
   "outputs": [],
   "source": [
    "# Drop 'Unnamed: 0' column as it is just an index\n",
    "train = train.drop('Unnamed: 0', axis=1)\n",
    "\n",
    "# Now, let's assume 'Purpose' is the target column and the rest are features\n",
    "x_train = train.drop(\"Purpose\", axis=1)  # Features\n",
    "y_train = train[\"Purpose\"]  # Target\n",
    "\n"
   ]
  },
  {
   "cell_type": "code",
   "execution_count": 37,
   "id": "35a1a278-806a-4b2f-bcfb-365e7d8d2e85",
   "metadata": {},
   "outputs": [
    {
     "name": "stdout",
     "output_type": "stream",
     "text": [
      "        Age  Sex  Credit amount  Duration              Purpose  Job_1  Job_2  \\\n",
      "0  2.766456  NaN      -0.745131 -1.236478             radio/TV  False   True   \n",
      "1 -1.191404  NaN       0.949817  2.248194             radio/TV  False   True   \n",
      "2  1.183312  NaN      -0.416562 -0.738668            education   True  False   \n",
      "3  0.831502  NaN       1.634247  1.750384  furniture/equipment  False   True   \n",
      "4  1.535122  NaN       0.566664  0.256953                  car  False   True   \n",
      "\n",
      "   Job_3  Housing_own  Housing_rent  Saving accounts_moderate  \\\n",
      "0  False         True         False                     False   \n",
      "1  False         True         False                     False   \n",
      "2  False         True         False                     False   \n",
      "3  False        False         False                     False   \n",
      "4  False        False         False                     False   \n",
      "\n",
      "   Saving accounts_quite rich  Saving accounts_rich  \\\n",
      "0                       False                 False   \n",
      "1                       False                 False   \n",
      "2                       False                 False   \n",
      "3                       False                 False   \n",
      "4                       False                 False   \n",
      "\n",
      "   Checking account_moderate  Checking account_rich  \n",
      "0                      False                  False  \n",
      "1                       True                  False  \n",
      "2                      False                  False  \n",
      "3                      False                  False  \n",
      "4                      False                  False  \n"
     ]
    }
   ],
   "source": [
    "from sklearn.preprocessing import StandardScaler\n",
    "\n",
    "# Scale numerical features (e.g., 'Age', 'Credit amount', 'Duration')\n",
    "numerical_features = ['Age', 'Credit amount', 'Duration']\n",
    "scaler = StandardScaler()\n",
    "train[numerical_features] = scaler.fit_transform(train[numerical_features])\n",
    "\n",
    "# Check the scaled data\n",
    "print(train.head())\n"
   ]
  },
  {
   "cell_type": "code",
   "execution_count": 38,
   "id": "6904de4d-d6ee-46b7-a38d-c5d626771ea7",
   "metadata": {},
   "outputs": [
    {
     "name": "stdout",
     "output_type": "stream",
     "text": [
      "                     precision    recall  f1-score   support\n",
      "\n",
      "           business       0.00      0.00      0.00        18\n",
      "                car       0.33      0.68      0.44        63\n",
      "domestic appliances       0.00      0.00      0.00         1\n",
      "          education       0.00      0.00      0.00        15\n",
      "furniture/equipment       0.00      0.00      0.00        44\n",
      "           radio/TV       0.42      0.54      0.47        54\n",
      "            repairs       0.00      0.00      0.00         3\n",
      "    vacation/others       0.00      0.00      0.00         2\n",
      "\n",
      "           accuracy                           0.36       200\n",
      "          macro avg       0.09      0.15      0.11       200\n",
      "       weighted avg       0.22      0.36      0.27       200\n",
      "\n"
     ]
    },
    {
     "name": "stderr",
     "output_type": "stream",
     "text": [
      "C:\\Users\\jorda\\AppData\\Local\\Programs\\Python\\Python310\\lib\\site-packages\\sklearn\\linear_model\\_logistic.py:465: ConvergenceWarning: lbfgs failed to converge (status=1):\n",
      "STOP: TOTAL NO. OF ITERATIONS REACHED LIMIT.\n",
      "\n",
      "Increase the number of iterations (max_iter) or scale the data as shown in:\n",
      "    https://scikit-learn.org/stable/modules/preprocessing.html\n",
      "Please also refer to the documentation for alternative solver options:\n",
      "    https://scikit-learn.org/stable/modules/linear_model.html#logistic-regression\n",
      "  n_iter_i = _check_optimize_result(\n",
      "C:\\Users\\jorda\\AppData\\Local\\Programs\\Python\\Python310\\lib\\site-packages\\sklearn\\metrics\\_classification.py:1565: UndefinedMetricWarning: Precision is ill-defined and being set to 0.0 in labels with no predicted samples. Use `zero_division` parameter to control this behavior.\n",
      "  _warn_prf(average, modifier, f\"{metric.capitalize()} is\", len(result))\n",
      "C:\\Users\\jorda\\AppData\\Local\\Programs\\Python\\Python310\\lib\\site-packages\\sklearn\\metrics\\_classification.py:1565: UndefinedMetricWarning: Precision is ill-defined and being set to 0.0 in labels with no predicted samples. Use `zero_division` parameter to control this behavior.\n",
      "  _warn_prf(average, modifier, f\"{metric.capitalize()} is\", len(result))\n",
      "C:\\Users\\jorda\\AppData\\Local\\Programs\\Python\\Python310\\lib\\site-packages\\sklearn\\metrics\\_classification.py:1565: UndefinedMetricWarning: Precision is ill-defined and being set to 0.0 in labels with no predicted samples. Use `zero_division` parameter to control this behavior.\n",
      "  _warn_prf(average, modifier, f\"{metric.capitalize()} is\", len(result))\n"
     ]
    }
   ],
   "source": [
    "from sklearn.model_selection import train_test_split\n",
    "from sklearn.linear_model import LogisticRegression\n",
    "from sklearn.metrics import classification_report\n",
    "\n",
    "# Split data into training and test sets\n",
    "X_train, X_test, y_train, y_test = train_test_split(x_train, y_train, test_size=0.2, random_state=42)\n",
    "\n",
    "# Train the logistic regression model\n",
    "model = LogisticRegression()\n",
    "model.fit(X_train, y_train)\n",
    "\n",
    "# Predict and evaluate the model\n",
    "y_pred = model.predict(X_test)\n",
    "print(classification_report(y_test, y_pred))\n"
   ]
  },
  {
   "cell_type": "code",
   "execution_count": 40,
   "id": "2af3c1fb-4e0b-4e79-adb1-0ae0b4de88bd",
   "metadata": {},
   "outputs": [
    {
     "name": "stdout",
     "output_type": "stream",
     "text": [
      "x_train shape: (1000, 14)\n",
      "y_train shape: (800,)\n"
     ]
    }
   ],
   "source": [
    "# Check the shape of x_train and y_train to ensure they match\n",
    "print(f\"x_train shape: {x_train.shape}\")\n",
    "print(f\"y_train shape: {y_train.shape}\")\n"
   ]
  },
  {
   "cell_type": "code",
   "execution_count": 41,
   "id": "e525f31f-c18e-4bcd-9217-a55a83d1066c",
   "metadata": {},
   "outputs": [
    {
     "name": "stdout",
     "output_type": "stream",
     "text": [
      "Total number of rows in the dataset: 1000\n"
     ]
    }
   ],
   "source": [
    "# Check the total number of rows in the dataset\n",
    "print(f\"Total number of rows in the dataset: {train.shape[0]}\")\n"
   ]
  },
  {
   "cell_type": "code",
   "execution_count": 42,
   "id": "8e7daf4e-6395-450e-820f-f8e1a037ae4f",
   "metadata": {},
   "outputs": [
    {
     "name": "stdout",
     "output_type": "stream",
     "text": [
      "x_train shape: (1000, 14)\n",
      "y_train shape: (1000,)\n"
     ]
    }
   ],
   "source": [
    "# Define the target variable (y_train) and features (x_train) correctly\n",
    "y_train = train[\"Purpose\"]  # Target column\n",
    "x_train = train.drop(\"Purpose\", axis=1)  # Drop target column to get features\n",
    "\n",
    "# Verify their shapes match\n",
    "print(f\"x_train shape: {x_train.shape}\")\n",
    "print(f\"y_train shape: {y_train.shape}\")\n"
   ]
  },
  {
   "cell_type": "code",
   "execution_count": 43,
   "id": "966cf13c-e9ab-490c-bed7-b6eb41c83987",
   "metadata": {},
   "outputs": [
    {
     "name": "stdout",
     "output_type": "stream",
     "text": [
      "X_train shape: (800, 14)\n",
      "X_test shape: (200, 14)\n",
      "y_train shape: (800,)\n",
      "y_test shape: (200,)\n"
     ]
    }
   ],
   "source": [
    "from sklearn.model_selection import train_test_split\n",
    "\n",
    "# Split the data into training and testing sets\n",
    "X_train, X_test, y_train, y_test = train_test_split(x_train, y_train, test_size=0.2, random_state=42)\n",
    "\n",
    "# Verify the shape of the split data\n",
    "print(f\"X_train shape: {X_train.shape}\")\n",
    "print(f\"X_test shape: {X_test.shape}\")\n",
    "print(f\"y_train shape: {y_train.shape}\")\n",
    "print(f\"y_test shape: {y_test.shape}\")\n"
   ]
  },
  {
   "cell_type": "markdown",
   "id": "e1859fb1-471f-40f5-af5b-ef1f09d197f2",
   "metadata": {},
   "source": [
    "### **2.1 Create placeholders**"
   ]
  },
  {
   "cell_type": "markdown",
   "id": "59922881-1ab9-4c79-96cc-50bda3c72074",
   "metadata": {},
   "source": [
    "The first task is to create placeholders for X and Y. This will allow you to later pass your training data in when you run your session.\n",
    "\n",
    "#### **Exercise 5.** \n",
    "Implement the function below to create the placeholders in tensorflow."
   ]
  },
  {
   "cell_type": "code",
   "execution_count": 50,
   "id": "90280130-7dfe-472b-a3ad-bb07ddda289a",
   "metadata": {},
   "outputs": [
    {
     "name": "stdout",
     "output_type": "stream",
     "text": [
      "Encoded target values: [0 3 1 1 5 1 4 4 4 4 6 5 1 0 1 3 3 5 3 5 4 1 5 5 5 3 1 2 5 1 1 1 1 4 0 4 1\n",
      " 5 0 1 4 1 1 1 1 0 0 5 5 1 0 5 3 5 1 4 5 1 5 3 5 1 0 0 5 0 1 4 4 1 5 4 1 1\n",
      " 1 1 5 4 5 1 4 4 5 0 5 5 4 6 4 0 4 1 1 0 1 0 5 4 1 4 1 1 4 1 1 5 4 5 5 5 7\n",
      " 3 1 4 4 1 5 1 0 0 4 4 1 4 5 1 5 1 3 4 0 4 1 3 5 4 1 5 0 1 5 1 4 1 4 1 5 5\n",
      " 5 1 0 6 1 5 1 3 1 4 4 4 4 1 5 1 1 5 5 5 0 5 0 1 1 5 4 0 0 0 5 2 5 0 4 5 5\n",
      " 1 1 4 3 1 5 5 5 4 2 5 5 7 5 5 4 5 4 1 4 5 4 4 1 1 1 4 1 1 5 5 5 0 1 5 1 1\n",
      " 4 5 6 4 7 5 5 1 1 3 3 1 4 5 1 4 1 0 0 1 6 1 1 4 4 4 7 1 4 2 5 1 4 1 3 5 0\n",
      " 0 3 1 1 1 1 1 5 3 1 1 1 5 4 6 5 1 5 5 4 1 1 1 0 4 5 1 6 5 4 4 5 0 1 1 5 5\n",
      " 4 1 4 1 3 5 3 4 4 5 0 1 5 1 5 1 4 5 1 1 5 1 1 1 5 4 0 3 7 5 5 3 5 4 4 3 0\n",
      " 1 4 4 1 1 5 1 5 4 1 1 4 1 0 1 1 5 5 3 1 5 4 5 4 1 5 3 3 1 5 1 3 3 5 1 4 5\n",
      " 5 4 5 4 5 1 5 5 5 5 1 5 1 0 1 5 4 0 2 1 0 1 0 6 1 0 7 3 5 4 0 6 1 5 5 6 0\n",
      " 5 5 0 0 5 1 1 5 1 1 4 4 1 1 3 1 4 5 1 1 1 1 1 1 5 4 5 5 6 5 1 1 0 4 4 5 5\n",
      " 7 1 5 1 0 1 5 1 4 5 1 0 3 5 2 1 5 5 4 1 3 5 5 4 1 1 4 1 5 1 1 1 5 1 1 2 0\n",
      " 0 5 5 5 3 4 4 4 1 1 5 4 5 5 1 2 1 1 5 3 3 1 6 0 1 1 1 5 5 0 4 0 3 1 1 1 1\n",
      " 5 4 1 4 1 5 1 5 4 4 0 6 5 1 1 5 1 1 0 1 5 0 1 1 2 0 1 6 7 0 5 4 5 4 1 5 1\n",
      " 1 5 5 4 4 1 6 5 4 5 0 1 0 6 5 0 4 4 1 5 4 5 5 1 4 1 5 5 5 0 1 4 1 1 5 1 5\n",
      " 5 5 5 1 1 5 0 1 1 5 3 4 0 1 5 5 5 5 5 1 1 0 4 1 4 1 0 1 1 5 5 4 4 1 1 4 1\n",
      " 4 4 4 5 5 1 4 3 1 5 1 1 1 5 5 1 5 0 1 5 1 1 6 5 3 5 5 1 5 1 1 1 5 1 0 4 0\n",
      " 5 5 0 3 1 1 5 6 1 1 5 1 1 6 5 5 1 1 1 0 1 5 1 2 1 1 1 4 1 4 5 1 1 1 1 5 5\n",
      " 1 1 5 0 0 5 1 5 3 7 5 0 5 5 1 5 5 1 4 1 5 5 1 1 1 4 4 0 5 1 5 1 4 5 4 5 4\n",
      " 4 5 4 7 1 4 1 1 0 1 1 5 5 4 3 3 4 5 1 1 5 1 3 1 1 5 1 5 5 5 5 0 5 1 1 0 0\n",
      " 5 4 1 1 4 1 1 4 3 2 1 5 5 1 4 1 4 5 1 1 1 5 5]\n"
     ]
    }
   ],
   "source": [
    "from sklearn.preprocessing import LabelEncoder\n",
    "\n",
    "# Initialize the label encoder\n",
    "label_encoder = LabelEncoder()\n",
    "\n",
    "# Fit and transform the target variable\n",
    "y_train_encoded = label_encoder.fit_transform(y_train)\n",
    "\n",
    "# Check the transformed target values\n",
    "print(\"Encoded target values:\", y_train_encoded)\n"
   ]
  },
  {
   "cell_type": "code",
   "execution_count": 51,
   "id": "fc6f1678-64ce-467b-93d8-96b95918ba53",
   "metadata": {},
   "outputs": [
    {
     "name": "stdout",
     "output_type": "stream",
     "text": [
      "X_tensor: Tensor(\"Const_5:0\", shape=(800, 14), dtype=float32)\n",
      "Y_tensor: Tensor(\"Const_6:0\", shape=(800, 1), dtype=float32)\n"
     ]
    }
   ],
   "source": [
    "# Convert the features and target into TensorFlow tensors\n",
    "X_tensor = tf.convert_to_tensor(X_train, dtype=tf.float32)\n",
    "Y_tensor = tf.convert_to_tensor(y_train_encoded.reshape(-1, 1), dtype=tf.float32)\n",
    "\n",
    "# Verify the tensors\n",
    "print(\"X_tensor:\", X_tensor)\n",
    "print(\"Y_tensor:\", Y_tensor)\n"
   ]
  },
  {
   "cell_type": "code",
   "execution_count": 53,
   "id": "a2527736-39d8-41e1-a709-0cea2f08f04b",
   "metadata": {},
   "outputs": [],
   "source": [
    "def forward_propagation(X, W, b):\n",
    "    \"\"\"\n",
    "    Implements the forward propagation for logistic regression.\n",
    "    Z -- linear step\n",
    "    A -- sigmoid activation function\n",
    "    \"\"\"\n",
    "    # Transpose X to match the dimensions for matrix multiplication\n",
    "    X = tf.transpose(X)  # Transpose the feature matrix to shape (14, 800)\n",
    "\n",
    "    Z = tf.add(tf.matmul(W, X), b)  # Linear step: (14, 1) * (14, 800)\n",
    "    A = tf.sigmoid(Z)  # Sigmoid activation function\n",
    "    return A\n",
    "\n"
   ]
  },
  {
   "cell_type": "code",
   "execution_count": 58,
   "id": "3925f997-55b4-455a-8cfa-cf1452c1282a",
   "metadata": {},
   "outputs": [
    {
     "name": "stdout",
     "output_type": "stream",
     "text": [
      "Unnamed: 0          0\n",
      "Age                 0\n",
      "Sex                 0\n",
      "Job                 0\n",
      "Housing             0\n",
      "Saving accounts     0\n",
      "Checking account    0\n",
      "Credit amount       0\n",
      "Duration            0\n",
      "dtype: int64\n"
     ]
    },
    {
     "name": "stderr",
     "output_type": "stream",
     "text": [
      "C:\\Users\\jorda\\AppData\\Local\\Temp\\ipykernel_38492\\366615799.py:10: FutureWarning: A value is trying to be set on a copy of a DataFrame or Series through chained assignment using an inplace method.\n",
      "The behavior will change in pandas 3.0. This inplace method will never work because the intermediate object on which we are setting values always behaves as a copy.\n",
      "\n",
      "For example, when doing 'df[col].method(value, inplace=True)', try using 'df.method({col: value}, inplace=True)' or df[col] = df[col].method(value) instead, to perform the operation inplace on the original object.\n",
      "\n",
      "\n",
      "  X[col].fillna(X[col].mode()[0], inplace=True)\n"
     ]
    }
   ],
   "source": [
    "# Separate numerical and categorical columns\n",
    "numerical_features = X.select_dtypes(include=['float64', 'int64']).columns  # Only select numerical columns\n",
    "categorical_features = X.select_dtypes(include=['object']).columns  # Categorical columns (string)\n",
    "\n",
    "# Fill missing values for numerical columns with the mean\n",
    "X[numerical_features] = X[numerical_features].fillna(X[numerical_features].mean())\n",
    "\n",
    "# For categorical columns, fill missing values with the mode (most frequent value)\n",
    "for col in categorical_features:\n",
    "    X[col].fillna(X[col].mode()[0], inplace=True)\n",
    "\n",
    "# Verify that there are no more missing values\n",
    "print(X.isnull().sum())\n"
   ]
  },
  {
   "cell_type": "markdown",
   "id": "5b59a9e0-9398-42d0-80dd-f0d83bdcaeb9",
   "metadata": {},
   "source": [
    "### **2.2 Initializing the parameters**"
   ]
  },
  {
   "cell_type": "markdown",
   "id": "45962d38-4255-43ba-ac4b-99cc12e03f30",
   "metadata": {},
   "source": [
    "The second task is to initialize the parameters in TensorFlow. \n"
   ]
  },
  {
   "cell_type": "raw",
   "id": "119098e5-8187-434e-81c3-158906e9dd64",
   "metadata": {},
   "source": [
    "input (10 * 1) -> layer 1 (5 neurons, relu) -> layer 2 (10 neurons, relu) -> layer 3 (1 neuron, sigmoid)"
   ]
  },
  {
   "cell_type": "markdown",
   "id": "8555250e-da5b-4d14-929d-b3220a363e91",
   "metadata": {},
   "source": [
    "#### **Exercise 6.**\n",
    "\n",
    "Implement the function below to initialize the parameters in TensorFlow. You are going to use Xavier Initialization for weights and Zero Initialization for biases. The shapes are given below. As an example, to help you, for `W1` and `b1` you could use:\n",
    "\n",
    "```python\n",
    "W1 = tf.get_variable(\"W1\", [5,10], initializer = tf.contrib.layers.xavier_initializer(seed = 1))\n",
    "b1 = tf.get_variable(\"b1\", [5,1], initializer = tf.zeros_initializer())"
   ]
  },
  {
   "cell_type": "markdown",
   "id": "02e0cc0a-52a0-45d4-9793-12f039bab8a0",
   "metadata": {},
   "source": [
    "*For W1, we have 5 neurons, each having 10 weight values (because we have 10 inputs at layer 1). For b1, we have the same 5 neurons with 1 bias value.*"
   ]
  },
  {
   "cell_type": "code",
   "execution_count": 67,
   "id": "8972e8d8-91ef-4d1e-a9b6-b6256cc04298",
   "metadata": {},
   "outputs": [],
   "source": [
    "import tensorflow as tf\n",
    "\n",
    "# GRADED FUNCTION: initialize_parameters\n",
    "def initialize_parameters(n_x, n_y):\n",
    "    \"\"\"\n",
    "    Initializes parameters to build a neural network with TensorFlow. The shapes are:\n",
    "                        W1 : [5, n_x]    --> 5 neurons in the first hidden layer\n",
    "                        b1 : [5, 1]      --> 5 bias terms for the first hidden layer\n",
    "                        W2 : [10, 5]     --> 10 neurons in the second hidden layer\n",
    "                        b2 : [10, 1]     --> 10 bias terms for the second hidden layer\n",
    "                        W3 : [1, 10]     --> 1 output neuron for binary classification\n",
    "                        b3 : [1, 1]      --> 1 bias term for the output layer\n",
    "    \n",
    "    Arguments:\n",
    "    n_x -- scalar, dimension of the input (number of features)\n",
    "    n_y -- scalar, dimension of the output (1 for binary classification)\n",
    "    \n",
    "    Returns:\n",
    "    parameters -- a dictionary of tensors containing W1, b1, W2, b2, W3, b3\n",
    "    \"\"\"\n",
    "    \n",
    "    tf.random.set_seed(1)  # so that your \"random\" numbers match ours\n",
    "\n",
    "    # Initialize parameters\n",
    "    W1 = tf.Variable(tf.keras.initializers.GlorotUniform(seed=1)(shape=[5, n_x]), name=\"W1\")\n",
    "    b1 = tf.Variable(tf.zeros_initializer()(shape=[5, 1]), name=\"b1\")\n",
    "    W2 = tf.Variable(tf.keras.initializers.GlorotUniform(seed=1)(shape=[10, 5]), name=\"W2\")\n",
    "    b2 = tf.Variable(tf.zeros_initializer()(shape=[10, 1]), name=\"b2\")\n",
    "    W3 = tf.Variable(tf.keras.initializers.GlorotUniform(seed=1)(shape=[1, 10]), name=\"W3\")\n",
    "    b3 = tf.Variable(tf.zeros_initializer()(shape=[1, 1]), name=\"b3\")\n",
    "\n",
    "    # Store all parameters in a dictionary\n",
    "    parameters = {\"W1\": W1,\n",
    "                  \"b1\": b1,\n",
    "                  \"W2\": W2,\n",
    "                  \"b2\": b2,\n",
    "                  \"W3\": W3,\n",
    "                  \"b3\": b3}\n",
    "\n",
    "    return parameters\n",
    "\n"
   ]
  },
  {
   "cell_type": "code",
   "execution_count": 68,
   "id": "dd254bf0-ed03-46a0-a935-2d79514dea24",
   "metadata": {},
   "outputs": [
    {
     "name": "stdout",
     "output_type": "stream",
     "text": [
      "W1: <tf.Variable 'W1:0' shape=(5, 14) dtype=float32>\n",
      "b1: <tf.Variable 'b1:0' shape=(5, 1) dtype=float32>\n",
      "W2: <tf.Variable 'W2:0' shape=(10, 5) dtype=float32>\n",
      "b2: <tf.Variable 'b2:0' shape=(10, 1) dtype=float32>\n",
      "W3: <tf.Variable 'W3:0' shape=(1, 10) dtype=float32>\n",
      "b3: <tf.Variable 'b3:0' shape=(1, 1) dtype=float32>\n"
     ]
    }
   ],
   "source": [
    "# Example usage with your dataset\n",
    "n_x = X_train.shape[1]  # 14 features in the input data\n",
    "n_y = 1  # Binary output\n",
    "\n",
    "# Initialize parameters\n",
    "parameters = initialize_parameters(n_x, n_y)\n",
    "\n",
    "# Print initialized parameters\n",
    "print(\"W1:\", parameters[\"W1\"])\n",
    "print(\"b1:\", parameters[\"b1\"])\n",
    "print(\"W2:\", parameters[\"W2\"])\n",
    "print(\"b2:\", parameters[\"b2\"])\n",
    "print(\"W3:\", parameters[\"W3\"])\n",
    "print(\"b3:\", parameters[\"b3\"])\n",
    "\n"
   ]
  },
  {
   "cell_type": "markdown",
   "id": "234547e9-542f-4af5-a271-665e0cb06611",
   "metadata": {},
   "source": [
    "### **2.3 Forward propagation in tensorflow**"
   ]
  },
  {
   "cell_type": "markdown",
   "id": "bfeae118-eb82-40dc-9621-1cbd82323902",
   "metadata": {},
   "source": [
    "I will now implement the forward propagation module in TensorFlow. The function will take in a dictionary of parameters and it will complete the forward pass. The functions I used are:\n",
    "\n",
    "- `tf.add(...)` to do an addition\n",
    "- `tf.matmul(...)` to do a matrix multiplication\n",
    "- `tf.nn.relu(...)` to apply the ReLU activation\n",
    "\n",
    "#### **Question 7.**\n",
    "\n",
    "Implement the forward pass of the neural network. I commented the numpy equivalents so that you can compare the tensorflow implementation to numpy. It is important to note that the forward propagation stops at `z3`. The reason is that in tensorflow the last linear layer output is given as input to the function computing the loss. Therefore, you don't need `a3`!\n"
   ]
  },
  {
   "cell_type": "code",
   "execution_count": 69,
   "id": "ebb694a3-65f4-4baf-99ce-e75b7221f8cd",
   "metadata": {},
   "outputs": [
    {
     "data": {
      "text/plain": [
       "(1000, 14)"
      ]
     },
     "execution_count": 69,
     "metadata": {},
     "output_type": "execute_result"
    }
   ],
   "source": [
    "x_train.shape"
   ]
  },
  {
   "cell_type": "code",
   "execution_count": 70,
   "id": "1afa254a-24d9-491d-8b8b-a4c87a97ea6a",
   "metadata": {},
   "outputs": [
    {
     "data": {
      "text/plain": [
       "[72161, 10]"
      ]
     },
     "execution_count": 70,
     "metadata": {},
     "output_type": "execute_result"
    }
   ],
   "source": [
    "[5,10]\n",
    "[72161,10]"
   ]
  },
  {
   "cell_type": "code",
   "execution_count": 76,
   "id": "ab6b0572-1acc-4e20-9244-d943a51b1f10",
   "metadata": {},
   "outputs": [
    {
     "name": "stdout",
     "output_type": "stream",
     "text": [
      "Z3 (linear output): Tensor(\"Add_4:0\", shape=(800, 1), dtype=float32)\n",
      "A3 (sigmoid output): Tensor(\"Sigmoid_3:0\", shape=(800, 1), dtype=float32)\n"
     ]
    }
   ],
   "source": [
    "import tensorflow as tf\n",
    "\n",
    "def forward_propagation(X, parameters):\n",
    "    \"\"\"\n",
    "    Implements the forward propagation for the model: LINEAR -> RELU -> LINEAR -> RELU -> LINEAR -> SIGMOID\n",
    "    \n",
    "    Arguments:\n",
    "    X -- input dataset, of shape (num_examples, input size)\n",
    "    parameters -- python dictionary containing your parameters \"W1\", \"b1\", \"W2\", \"b2\", \"W3\", \"b3\"\n",
    "                  the shapes are given in initialize_parameters\n",
    "\n",
    "    Returns:\n",
    "    Z3 -- the output of the last LINEAR unit before activation\n",
    "    A3 -- the output after applying sigmoid (for binary classification)\n",
    "    \"\"\"\n",
    "    \n",
    "    # Retrieve the parameters from the dictionary \"parameters\" \n",
    "    W1 = parameters['W1']\n",
    "    b1 = parameters['b1']\n",
    "    W2 = parameters['W2']\n",
    "    b2 = parameters['b2']\n",
    "    W3 = parameters['W3']\n",
    "    b3 = parameters['b3']\n",
    "    \n",
    "    # Convert X to a TensorFlow tensor (if it's not already a tensor)\n",
    "    X = tf.convert_to_tensor(X, dtype=tf.float32)\n",
    "    \n",
    "    ### START CODE HERE ### (approx. 5 lines)\n",
    "    Z1 = tf.add(tf.matmul(X, W1), b1)  # Linear transformation\n",
    "    A1 = tf.nn.relu(Z1)  # ReLU activation\n",
    "    Z2 = tf.add(tf.matmul(A1, W2), b2)  # Linear transformation\n",
    "    A2 = tf.nn.relu(Z2)  # ReLU activation\n",
    "    Z3 = tf.add(tf.matmul(A2, W3), b3)  # Linear transformation (output layer)\n",
    "    A3 = tf.sigmoid(Z3)  # Sigmoid activation for binary classification\n",
    "    ### END CODE HERE ###\n",
    "    \n",
    "    return Z3, A3  # Return both Z3 (linear output) and A3 (sigmoid output)\n",
    "\n",
    "\n",
    "def initialize_parameters(n_x, n_y):\n",
    "    \"\"\"\n",
    "    Initializes parameters for a 3-layer neural network.\n",
    "    \n",
    "    Arguments:\n",
    "    n_x -- input size (number of features)\n",
    "    n_y -- output size (number of outputs)\n",
    "    \n",
    "    Returns:\n",
    "    parameters -- dictionary containing W1, b1, W2, b2, W3, b3\n",
    "    \"\"\"\n",
    "    # Set random seed for reproducibility\n",
    "    tf.random.set_seed(1)\n",
    "\n",
    "    # Initialize the weights and biases\n",
    "    W1 = tf.Variable(tf.keras.initializers.GlorotUniform()(shape=[n_x, 5]), name=\"W1\")  # [n_x, 5]\n",
    "    b1 = tf.Variable(tf.zeros_initializer()(shape=[1, 5]), name=\"b1\")  # [1, 5]\n",
    "    W2 = tf.Variable(tf.keras.initializers.GlorotUniform()(shape=[5, 10]), name=\"W2\")  # [5, 10]\n",
    "    b2 = tf.Variable(tf.zeros_initializer()(shape=[1, 10]), name=\"b2\")  # [1, 10]\n",
    "    W3 = tf.Variable(tf.keras.initializers.GlorotUniform()(shape=[10, n_y]), name=\"W3\")  # [10, n_y]\n",
    "    b3 = tf.Variable(tf.zeros_initializer()(shape=[1, n_y]), name=\"b3\")  # [1, n_y]\n",
    "\n",
    "    # Store the parameters in a dictionary\n",
    "    parameters = {\"W1\": W1, \"b1\": b1, \"W2\": W2, \"b2\": b2, \"W3\": W3, \"b3\": b3}\n",
    "    \n",
    "    return parameters\n",
    "\n",
    "\n",
    "# Example usage with your dataset\n",
    "\n",
    "# Assume X_train is your input dataset of shape (num_examples, num_features)\n",
    "# Assume y_train is your target output of shape (num_examples, 1)\n",
    "\n",
    "# Set the number of features (input size) and output size\n",
    "n_x = X_train.shape[1]  # 14 features in your dataset\n",
    "n_y = 1  # Binary classification output (0 or 1)\n",
    "\n",
    "# Initialize parameters\n",
    "parameters = initialize_parameters(n_x, n_y)\n",
    "\n",
    "# Forward propagation\n",
    "Z3, A3 = forward_propagation(X_train, parameters)\n",
    "\n",
    "# Print the output\n",
    "print(\"Z3 (linear output):\", Z3)\n",
    "print(\"A3 (sigmoid output):\", A3)\n",
    "\n",
    "    "
   ]
  },
  {
   "cell_type": "markdown",
   "id": "78b19008-a7ad-43b4-a0c9-a1ffcec931a8",
   "metadata": {},
   "source": [
    "### **2.4 Compute cost**"
   ]
  },
  {
   "cell_type": "markdown",
   "id": "fed098db-354f-4c09-b858-e0b0c6028f51",
   "metadata": {},
   "source": [
    "As seen before, it is very easy to compute the cost:\n",
    "\n",
    "```python\n",
    "tf.reduce_mean(tf.nn.sigmoid_cross_entropy_with_logits(logits=..., labels=...))\n"
   ]
  },
  {
   "cell_type": "markdown",
   "id": "78d94237-8344-4600-a4f3-16127ecb8cb4",
   "metadata": {},
   "source": [
    "#### **Question 8.**"
   ]
  },
  {
   "cell_type": "markdown",
   "id": "1355481b-bafb-4dcb-b309-d6c9074a2788",
   "metadata": {},
   "source": [
    "Implement the cost function below.\n",
    "\n",
    "`tf.reduce_mean` basically does the mean operation over individual losses of examples.\n"
   ]
  },
  {
   "cell_type": "code",
   "execution_count": 79,
   "id": "8951569b-a83d-4f47-ab9e-33d0184870eb",
   "metadata": {},
   "outputs": [],
   "source": [
    "import tensorflow as tf\n",
    "\n",
    "# GRADED FUNCTION: compute_cost\n",
    "def compute_cost(Z3, Y):\n",
    "    \"\"\"\n",
    "    Computes the cost for the binary classification model\n",
    "    \n",
    "    Arguments:\n",
    "    Z3 -- output of forward propagation (output of the last LINEAR unit), of shape (number of examples, 1)\n",
    "    Y -- \"true\" labels vector, same shape as Z3\n",
    "    \n",
    "    Returns:\n",
    "    cost - Tensor of the cost function\n",
    "    \"\"\"\n",
    "    \n",
    "    # Reshaping Z3 and Y to ensure correct dimensionality for tf.nn.sigmoid_cross_entropy_with_logits\n",
    "    logits = tf.reshape(Z3, (-1, 1))  # Ensure logits have shape [num_examples, 1]\n",
    "    labels = tf.reshape(Y, (-1, 1))   # Ensure labels have shape [num_examples, 1]\n",
    "    \n",
    "    # Compute cost using sigmoid cross entropy\n",
    "    cost = tf.reduce_mean(tf.nn.sigmoid_cross_entropy_with_logits(logits=logits, labels=labels))\n",
    "    \n",
    "    return cost"
   ]
  },
  {
   "cell_type": "code",
   "execution_count": null,
   "id": "16f5b1f4-26c0-4416-9a64-6087236fca4a",
   "metadata": {},
   "outputs": [],
   "source": [
    "tf.reset_default_graph()\n",
    "\n",
    "with tf.Session() as sess:\n",
    "    X, Y = create_placeholders(10, 1)\n",
    "    parameters = initialize_parameters()\n",
    "    Z3 = forward_propagation(X, parameters)\n",
    "    cost = compute_cost(Z3, Y)\n",
    "    print(\"cost = \" + str(cost))"
   ]
  },
  {
   "cell_type": "raw",
   "id": "8d84b25c-c562-4c83-adf7-6df6e5707ff2",
   "metadata": {},
   "source": [
    "**cost**\tTensor(\"Mean:0\", shape=(), dtype=float32)"
   ]
  },
  {
   "cell_type": "markdown",
   "id": "41a62aa9-3c9a-409e-acd9-5f69e3e0b9d3",
   "metadata": {},
   "source": [
    "### **2.5 Calculating Accuracy**\n",
    "\n",
    "For a classification problem, accuracy of a model is the number of correctly classified examples divided by number of total examples. i.e.\n",
    "\n",
    "```python\n",
    "accuracy = TP + TN / N"
   ]
  },
  {
   "cell_type": "markdown",
   "id": "3161062e-211d-43c0-bdd5-03f115930fe1",
   "metadata": {},
   "source": [
    "Where  \n",
    "**TP** is number of true positives,  \n",
    "**TN** is the number of true negatives,  \n",
    "**N** is the number of all examples in the dataset.\n"
   ]
  },
  {
   "cell_type": "code",
   "execution_count": 91,
   "id": "417334b2-c3e9-4dab-972d-7d51873a63d4",
   "metadata": {},
   "outputs": [],
   "source": [
    "def calculate_accuracy(z, y):\n",
    "    z_array = np.array(z).T [1,3,4,5,6] \n",
    "    y_array = np.array(y).T\n",
    "    yhat_labels = (z_array > 0.5).astype(np.int)\n",
    "    correct_labels = np.sum(y_array == yhat_labels)\n",
    "    accuracy = correct_labels/y_array.shape[0]\n",
    "    return accuracy"
   ]
  },
  {
   "cell_type": "markdown",
   "id": "fca23a3e-8f19-4bc2-8626-bc292d9c7838",
   "metadata": {},
   "source": [
    "### **2.6 Backward propagation & parameter updates**"
   ]
  },
  {
   "cell_type": "markdown",
   "id": "157a4026-a6f9-4af9-83da-0ee2490f6272",
   "metadata": {},
   "source": [
    "This is where you become grateful to programming frameworks. All the backpropagation and the parameters update is taken care of in 1 line of code. It is very easy to incorporate this line in the model.\n",
    "\n",
    "After you compute the cost function. You will create an \"optimizer\" object. You have to call this object along with the cost when running the tf.session. When called, it will perform an optimization on the given cost with the chosen method and learning rate.\n",
    "\n",
    "For instance, for gradient descent the optimizer would be:"
   ]
  },
  {
   "cell_type": "markdown",
   "id": "a4219eed-fd02-4b66-864f-ac7b75725cd6",
   "metadata": {},
   "source": [
    "```python\n",
    "optimizer = tf.train.GradientDescentOptimizer(learning_rate = learning_rate).minimize(cost)"
   ]
  },
  {
   "cell_type": "markdown",
   "id": "4395a3be-ebbe-480e-bd28-873a59595c72",
   "metadata": {},
   "source": [
    "To make the optimization you would do:"
   ]
  },
  {
   "cell_type": "markdown",
   "id": "eef68e83-ca03-492a-8172-b52ad55a24f0",
   "metadata": {},
   "source": [
    "```python\n",
    "_ , c = sess.run([optimizer, cost], feed_dict={X: X, Y: Y})"
   ]
  },
  {
   "cell_type": "markdown",
   "id": "8878e7fa-3146-4fdc-8685-6b5355b89f9c",
   "metadata": {},
   "source": [
    "This computes the backpropagation by passing through the tensorflow graph in the reverse order. From cost to inputs."
   ]
  },
  {
   "cell_type": "markdown",
   "id": "74174982-6603-4876-a063-a5a91caac397",
   "metadata": {},
   "source": [
    "### **2.7 Building the Final Model**"
   ]
  },
  {
   "cell_type": "markdown",
   "id": "093e35ce-ce43-458c-9fac-a84214e2a8be",
   "metadata": {},
   "source": [
    "#### **Question 9.**"
   ]
  },
  {
   "cell_type": "markdown",
   "id": "610fcdc6-1958-43e9-83eb-85a9df2d399f",
   "metadata": {},
   "source": [
    "Implementation of Model. "
   ]
  },
  {
   "cell_type": "code",
   "execution_count": 98,
   "id": "8cbebed2-43e9-4873-9fb0-3394877aaf3b",
   "metadata": {},
   "outputs": [],
   "source": [
    "import tensorflow as tf\n",
    "import matplotlib.pyplot as plt\n",
    "import numpy as np\n",
    "\n",
    "# Assuming you have initialized and preprocessed your data (X_train_final, Y_train_final, X_test_final, Y_test_final)\n",
    "def model(X_train, Y_train, X_test, Y_test, learning_rate = 0.0001, num_epochs = 500, print_cost = True):\n",
    "    \"\"\"\n",
    "    Implements a three-layer tensorflow neural network for binary classification.\n",
    "    \"\"\"\n",
    "    \n",
    "    ops.reset_default_graph()                         # to be able to rerun the model without overwriting tf variables\n",
    "    tf.set_random_seed(1)                             # to keep consistent results\n",
    "    seed = 3                                          # to keep consistent results\n",
    "    (n_x, m) = X_train.shape                          # (n_x: input size, m : number of examples in the train set)\n",
    "    n_y = Y_train.shape[0]                            # n_y : output size\n",
    "    costs = []                                        # To keep track of the cost\n",
    "    train_acc = []                                    # To keep track of the training accuracy\n",
    "    test_acc = []                                     # To keep track of the test accuracy\n",
    "    \n",
    "    # Create Placeholders of shape (n_x, n_y)\n",
    "    X, Y = create_placeholders(n_x, n_y)\n",
    "\n",
    "    # Initialize parameters\n",
    "    parameters = initialize_parameters()\n",
    "\n",
    "    # Forward propagation: Build the forward propagation in the tensorflow graph\n",
    "    Z3 = forward_propagation(X, parameters)\n",
    "    \n",
    "    # Cost function: Add cost function to tensorflow graph\n",
    "    cost = compute_cost(Z3, Y)\n",
    "    \n",
    "    # Backpropagation: Define the tensorflow optimizer. Use GradientDescentOptimizer.\n",
    "    optimizer = tf.train.GradientDescentOptimizer(learning_rate=learning_rate).minimize(cost)\n",
    "    \n",
    "    # Initialize all the variables\n",
    "    init = tf.global_variables_initializer()\n",
    "\n",
    "    # Start the session to compute the tensorflow graph\n",
    "    with tf.Session() as sess:\n",
    "        \n",
    "        # Run the initialization\n",
    "        sess.run(init)\n",
    "        \n",
    "        # Do the training loop\n",
    "        for epoch in range(num_epochs):\n",
    "            seed = seed + 1\n",
    "\n",
    "            # Run optimizer and compute cost\n",
    "            _, c = sess.run([optimizer, cost], feed_dict={X: X_train, Y: Y_train})\n",
    "            \n",
    "            epoch_cost = c                # Defines a cost related to an epoch\n",
    "            \n",
    "            # Compute training accuracy\n",
    "            epoch_train_Z = sess.run(Z3, feed_dict={X: X_train})\n",
    "            epoch_train_accuracy = calculate_accuracy(epoch_train_Z, Y_train)\n",
    "            \n",
    "            # Compute test accuracy\n",
    "            epoch_test_Z = sess.run(Z3, feed_dict={X: X_test})\n",
    "            epoch_test_accuracy = calculate_accuracy(epoch_test_Z, Y_test)\n",
    "            \n",
    "            # Print the cost and accuracies every 100 epochs\n",
    "            if print_cost == True and epoch % 100 == 0:\n",
    "                print(\"Cost after epoch %i: %f\" % (epoch, epoch_cost))\n",
    "            \n",
    "            if print_cost == True and epoch % 5 == 0:\n",
    "                costs.append(epoch_cost)\n",
    "                train_acc.append(epoch_train_accuracy)\n",
    "                test_acc.append(epoch_test_accuracy)\n",
    "                \n",
    "        # Plot the cost vs. iterations graph\n",
    "        plt.figure(figsize=(8,6))\n",
    "        plt.plot(np.squeeze(costs))\n",
    "        plt.ylabel('cost')\n",
    "        plt.xlabel('iterations (per tens)')\n",
    "        plt.title(\"Learning rate =\" + str(learning_rate))\n",
    "        plt.show()\n",
    "        \n",
    "        # Plot train vs. test accuracy over training epochs\n",
    "        plt.figure(figsize=(13,7))\n",
    "        plt.plot(np.squeeze(train_acc), color=\"red\", label=\"Train Accuracy\")\n",
    "        plt.plot(np.squeeze(test_acc), color=\"blue\", label=\"Test Accuracy\")\n",
    "        plt.ylabel('Accuracy')\n",
    "        plt.xlabel('iterations (per tens)')\n",
    "        plt.title(\"Training Accuracy (Red) vs. Test Accuracy (Blue) Trend\")\n",
    "        plt.legend()\n",
    "        plt.show()\n",
    "        \n",
    "        # Save the parameters\n",
    "        parameters = sess.run(parameters)\n",
    "        print(\"Parameters have been trained!\")\n",
    "\n",
    "        # Accuracy on final train/test set\n",
    "        train_Z = sess.run(Z3, feed_dict={X: X_train})\n",
    "        train_accuracy = calculate_accuracy(train_Z, Y_train)\n",
    "        test_Z = sess.run(Z3, feed_dict={X: X_test})\n",
    "        test_accuracy = calculate_accuracy(test_Z, Y_test)\n",
    "\n",
    "        print(\"Train Accuracy:\", train_accuracy)\n",
    "        print(\"Test Accuracy:\", test_accuracy)\n",
    "        \n",
    "        return parameters"
   ]
  },
  {
   "cell_type": "raw",
   "id": "d2f6a001-5378-4546-b5a1-721822597026",
   "metadata": {},
   "source": [
    "parameters = model(x_train_final, y_train_final, x_test_final, y_test_final)"
   ]
  },
  {
   "cell_type": "raw",
   "id": "ca40183b-cfee-4581-ac49-8d99cd39d755",
   "metadata": {},
   "source": [
    "Cost after epoch 0: 17.964821\n",
    "Cost after epoch 100: 1.002736\n",
    "Cost after epoch 200: 0.986673\n",
    "Cost after epoch 300: 0.971593\n",
    "Cost after epoch 400: 0.957571"
   ]
  },
  {
   "cell_type": "code",
   "execution_count": 113,
   "id": "d0ad755d-cff1-4957-829d-3cc165ffd4d3",
   "metadata": {},
   "outputs": [
    {
     "data": {
      "image/png": "[encoded data removed]",
      "text/plain": [
       "<IPython.core.display.Image object>"
      ]
     },
     "execution_count": 113,
     "metadata": {},
     "output_type": "execute_result"
    }
   ],
   "source": [
    "from IPython.display import Image\n",
    "Image(r\"C:\\Users\\jorda\\Downloads\\code_1.png\")\n"
   ]
  },
  {
   "cell_type": "code",
   "execution_count": 115,
   "id": "c243c090-bb6e-4a0b-a8d3-28aa878be895",
   "metadata": {},
   "outputs": [
    {
     "data": {
      "image/png": "[encoded data removed]",
      "text/plain": [
       "<IPython.core.display.Image object>"
      ]
     },
     "execution_count": 115,
     "metadata": {},
     "output_type": "execute_result"
    }
   ],
   "source": [
    "from IPython.display import Image\n",
    "Image(r\"C:\\Users\\jorda\\Downloads\\code_2.png\")\n"
   ]
  },
  {
   "cell_type": "raw",
   "id": "47908bab-6a98-46b1-847a-e219b5a294e2",
   "metadata": {},
   "source": [
    "Parameters have been trained!\n",
    "Train Accuracy: 0.9305164839733374\n",
    "Test Accuracy: 0.930510518001164"
   ]
  }
 ],
 "metadata": {
  "kernelspec": {
   "display_name": "Python 3 (ipykernel)",
   "language": "python",
   "name": "python3"
  },
  "language_info": {
   "codemirror_mode": {
    "name": "ipython",
    "version": 3
   },
   "file_extension": ".py",
   "mimetype": "text/x-python",
   "name": "python",
   "nbconvert_exporter": "python",
   "pygments_lexer": "ipython3",
   "version": "3.10.11"
  }
 },
 "nbformat": 4,
 "nbformat_minor": 5
}
